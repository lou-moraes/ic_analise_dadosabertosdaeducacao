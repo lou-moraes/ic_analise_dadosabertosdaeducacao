{
 "cells": [
  {
   "cell_type": "code",
   "execution_count": 2,
   "id": "2badfae4-055e-4f55-bb83-974027588e13",
   "metadata": {},
   "outputs": [],
   "source": [
    "import json\n",
    "import pandas as pd\n",
    "import geopandas as gpd\n",
    "import folium\n",
    "from folium import Choropleth\n",
    "from branca.colormap import linear\n",
    "import ipywidgets as widgets\n",
    "from IPython.display import display, HTML as ipyHTML\n",
    "from IPython.display import display, IFrame"
   ]
  },
  {
   "cell_type": "code",
   "execution_count": 3,
   "id": "8caff564-e6b7-4fad-a16e-c810e537f403",
   "metadata": {},
   "outputs": [
    {
     "name": "stdout",
     "output_type": "stream",
     "text": [
      "           NO_REGIAO             NO_UF SIGLA_UF NO_MUNICIPIO  \\\n",
      "0              Norte          Rondônia       RO  Porto Velho   \n",
      "1              Norte          Rondônia       RO  Porto Velho   \n",
      "2              Norte          Rondônia       RO  Porto Velho   \n",
      "3              Norte          Rondônia       RO  Porto Velho   \n",
      "4              Norte          Rondônia       RO  Porto Velho   \n",
      "...              ...               ...      ...          ...   \n",
      "217620  Centro-Oeste  Distrito Federal       DF     Brasília   \n",
      "217621  Centro-Oeste  Distrito Federal       DF     Brasília   \n",
      "217622  Centro-Oeste  Distrito Federal       DF     Brasília   \n",
      "217623  Centro-Oeste  Distrito Federal       DF     Brasília   \n",
      "217624  Centro-Oeste  Distrito Federal       DF     Brasília   \n",
      "\n",
      "                                            NO_ENTIDADE  TP_DEPENDENCIA  \n",
      "0                    EEEE ABNAEL MACHADO DE LIMA - CENE               2  \n",
      "1                              EMEIEF PEQUENOS TALENTOS               3  \n",
      "2                             CENTRO DE ENSINO CLASSE A               4  \n",
      "3       CENTRO EDUCACIONAL PRESBITERIANO 15 DE NOVEMBRO               4  \n",
      "4                             CENTRO EDUC CORA CORALINA               4  \n",
      "...                                                 ...             ...  \n",
      "217620                              ESC PEQUENO ENCANTO               4  \n",
      "217621     SOCIEDADE ANCHIETA DE EDUCACAO INTEGRAL LTDA               4  \n",
      "217622                                         COL MAPA               4  \n",
      "217623                            COBIAN - COL BIANGULO               4  \n",
      "217624                                CED VITORIA REGIA               4  \n",
      "\n",
      "[217625 rows x 6 columns]\n"
     ]
    }
   ],
   "source": [
    "data = pd.read_excel('Datasets/dados_tipoescola.xlsx')\n",
    "data.rename(columns={'SG_UF': 'SIGLA_UF'}, inplace=True)\n",
    "print(data)"
   ]
  },
  {
   "cell_type": "code",
   "execution_count": 4,
   "id": "823f56c5-8aa1-4bbb-9d12-7d36f196aa92",
   "metadata": {},
   "outputs": [
    {
     "name": "stdout",
     "output_type": "stream",
     "text": [
      "   SIGLA_UF  QT_ESCOLAS\n",
      "0        SP       34099\n",
      "1        MG       24293\n",
      "2        BA       19611\n",
      "3        MA       13635\n",
      "4        RJ       13229\n",
      "5        PA       12092\n",
      "6        RS       11287\n",
      "7        CE       10648\n",
      "8        PE       10219\n",
      "9        PR        9999\n",
      "10       SC        7376\n",
      "11       AM        6148\n",
      "12       PI        5849\n",
      "13       PB        5479\n",
      "14       GO        5047\n",
      "15       RN        4867\n",
      "16       ES        4037\n",
      "17       AL        3473\n",
      "18       MT        3154\n",
      "19       SE        2567\n",
      "20       TO        2293\n",
      "21       MS        1939\n",
      "22       AC        1658\n",
      "23       RO        1416\n",
      "24       DF        1319\n",
      "25       AP         950\n",
      "26       RR         941\n"
     ]
    }
   ],
   "source": [
    "aux = data['SIGLA_UF'].value_counts()\n",
    "df_final = aux.reset_index()\n",
    "df_final.columns = ['SIGLA_UF', 'QT_ESCOLAS']\n",
    "print(df_final)"
   ]
  },
  {
   "cell_type": "code",
   "execution_count": 5,
   "id": "17427555-899e-48de-b0ac-9aaeb630f5f0",
   "metadata": {},
   "outputs": [
    {
     "name": "stdout",
     "output_type": "stream",
     "text": [
      "   SIGLA_UF  QT_FED\n",
      "0        AC       7\n",
      "1        AL      17\n",
      "2        AM      18\n",
      "3        AP       6\n",
      "4        BA      37\n",
      "5        CE      35\n",
      "6        DF      11\n",
      "7        ES      23\n",
      "8        GO      27\n",
      "9        MA      31\n",
      "10       MG      82\n",
      "11       MS      11\n",
      "12       MT      19\n",
      "13       PA      24\n",
      "14       PB      26\n",
      "15       PE      26\n",
      "16       PI      23\n",
      "17       PR      30\n",
      "18       RJ      68\n",
      "19       RN      30\n",
      "20       RO      10\n",
      "21       RR       7\n",
      "22       RS      50\n",
      "23       SC      39\n",
      "24       SE      10\n",
      "25       SP      47\n",
      "26       TO      11\n"
     ]
    }
   ],
   "source": [
    "federal = data[data['TP_DEPENDENCIA'] == 1]\n",
    "federal_uf = federal.groupby('SIGLA_UF').size().reset_index(name='QT_FED')\n",
    "federal_uf = federal_uf.sort_values(by='SIGLA_UF')\n",
    "print(federal_uf)"
   ]
  },
  {
   "cell_type": "code",
   "execution_count": 6,
   "id": "35e02e6c-3628-4273-8d3c-3b6d739afb8f",
   "metadata": {},
   "outputs": [
    {
     "name": "stdout",
     "output_type": "stream",
     "text": [
      "   SIGLA_UF  QT_EST\n",
      "0        AC     673\n",
      "1        AL     326\n",
      "2        AM     789\n",
      "3        AP     402\n",
      "4        BA    1137\n",
      "5        CE     776\n",
      "6        DF     703\n",
      "7        ES     588\n",
      "8        GO    1015\n",
      "9        MA    1313\n",
      "10       MG    4294\n",
      "11       MS     365\n",
      "12       MT     825\n",
      "13       PA    1103\n",
      "14       PB     673\n",
      "15       PE    1085\n",
      "16       PI     762\n",
      "17       PR    2140\n",
      "18       RJ    1593\n",
      "19       RN     820\n",
      "20       RO     416\n",
      "21       RR     404\n",
      "22       RS    2516\n",
      "23       SC    1378\n",
      "24       SE     335\n",
      "25       SP    6524\n",
      "26       TO     591\n"
     ]
    }
   ],
   "source": [
    "estadual = data[data['TP_DEPENDENCIA'] == 2]\n",
    "estadual_uf = estadual.groupby('SIGLA_UF').size().reset_index(name='QT_EST')\n",
    "estadual_uf = estadual_uf.sort_values(by='SIGLA_UF')\n",
    "print(estadual_uf)"
   ]
  },
  {
   "cell_type": "code",
   "execution_count": 7,
   "id": "56195ca0-8d10-486e-8520-336d2901e88a",
   "metadata": {},
   "outputs": [
    {
     "name": "stdout",
     "output_type": "stream",
     "text": [
      "   SIGLA_UF  QT_MUN\n",
      "0        AC     931\n",
      "1        AL    2553\n",
      "2        AM    4941\n",
      "3        AP     433\n",
      "4        BA   15175\n",
      "5        CE    7086\n",
      "6        ES    2758\n",
      "7        GO    2700\n",
      "8        MA   10902\n",
      "9        MG   13441\n",
      "10       MS    1012\n",
      "11       MT    1792\n",
      "12       PA    9970\n",
      "13       PB    3777\n",
      "14       PE    5852\n",
      "15       PI    4554\n",
      "16       PR    5459\n",
      "17       RJ    6286\n",
      "18       RN    3037\n",
      "19       RO     789\n",
      "20       RR     479\n",
      "21       RS    5650\n",
      "22       SC    4283\n",
      "23       SE    1568\n",
      "24       SP   13853\n",
      "25       TO    1428\n"
     ]
    }
   ],
   "source": [
    "municipal = data[data['TP_DEPENDENCIA'] == 3]\n",
    "municipal_uf = municipal.groupby('SIGLA_UF').size().reset_index(name='QT_MUN')\n",
    "municipal_uf = municipal_uf.sort_values(by='SIGLA_UF')\n",
    "print(municipal_uf)"
   ]
  },
  {
   "cell_type": "code",
   "execution_count": 8,
   "id": "a23ece97-66ce-42a3-b3b8-84436460d332",
   "metadata": {},
   "outputs": [
    {
     "name": "stdout",
     "output_type": "stream",
     "text": [
      "   SIGLA_UF  QT_PRI\n",
      "0        AC      47\n",
      "1        AL     577\n",
      "2        AM     400\n",
      "3        AP     109\n",
      "4        BA    3262\n",
      "5        CE    2751\n",
      "6        DF     605\n",
      "7        ES     668\n",
      "8        GO    1305\n",
      "9        MA    1389\n",
      "10       MG    6476\n",
      "11       MS     551\n",
      "12       MT     518\n",
      "13       PA     995\n",
      "14       PB    1003\n",
      "15       PE    3256\n",
      "16       PI     510\n",
      "17       PR    2370\n",
      "18       RJ    5282\n",
      "19       RN     980\n",
      "20       RO     201\n",
      "21       RR      51\n",
      "22       RS    3071\n",
      "23       SC    1676\n",
      "24       SE     654\n",
      "25       SP   13675\n",
      "26       TO     263\n"
     ]
    }
   ],
   "source": [
    "privada = data[data['TP_DEPENDENCIA'] == 4]\n",
    "privada_uf = privada.groupby('SIGLA_UF').size().reset_index(name='QT_PRI')\n",
    "privada_uf = privada_uf.sort_values(by='SIGLA_UF')\n",
    "print(privada_uf)"
   ]
  },
  {
   "cell_type": "code",
   "execution_count": 9,
   "id": "7335f74d-7408-4f3a-bd44-9f03f4f821f2",
   "metadata": {},
   "outputs": [
    {
     "name": "stdout",
     "output_type": "stream",
     "text": [
      "   SIGLA_UF  QT_ESCOLAS  QT_FED  QT_MUN  QT_EST  QT_PRI\n",
      "0        SP       34099      47   13853    6524   13675\n",
      "1        MG       24293      82   13441    4294    6476\n",
      "2        BA       19611      37   15175    1137    3262\n",
      "3        MA       13635      31   10902    1313    1389\n",
      "4        RJ       13229      68    6286    1593    5282\n",
      "5        PA       12092      24    9970    1103     995\n",
      "6        RS       11287      50    5650    2516    3071\n",
      "7        CE       10648      35    7086     776    2751\n",
      "8        PE       10219      26    5852    1085    3256\n",
      "9        PR        9999      30    5459    2140    2370\n",
      "10       SC        7376      39    4283    1378    1676\n",
      "11       AM        6148      18    4941     789     400\n",
      "12       PI        5849      23    4554     762     510\n",
      "13       PB        5479      26    3777     673    1003\n",
      "14       GO        5047      27    2700    1015    1305\n",
      "15       RN        4867      30    3037     820     980\n",
      "16       ES        4037      23    2758     588     668\n",
      "17       AL        3473      17    2553     326     577\n",
      "18       MT        3154      19    1792     825     518\n",
      "19       SE        2567      10    1568     335     654\n",
      "20       TO        2293      11    1428     591     263\n",
      "21       MS        1939      11    1012     365     551\n",
      "22       AC        1658       7     931     673      47\n",
      "23       RO        1416      10     789     416     201\n",
      "24       AP         950       6     433     402     109\n",
      "25       RR         941       7     479     404      51\n"
     ]
    }
   ],
   "source": [
    "dfprincipal = df_final\n",
    "for df in [federal_uf, municipal_uf, estadual_uf, privada_uf]:\n",
    "    dfprincipal =dfprincipal.merge(df, on='SIGLA_UF')\n",
    "\n",
    "print(dfprincipal)"
   ]
  },
  {
   "cell_type": "code",
   "execution_count": 10,
   "id": "0eb108f8-11ee-4a49-b080-b7ba3c1d74d2",
   "metadata": {},
   "outputs": [],
   "source": [
    "#adicionando manualmente a linha do DF\n",
    "nova_linha = {'SIGLA_UF': 'DF', 'QT_ESCOLAS': 1319, 'QT_FED': 11, 'QT_MUN': 0, 'QT_EST':703, 'QT_PRI':605}\n",
    "dfprincipal.loc[len(dfprincipal)] = nova_linha"
   ]
  },
  {
   "cell_type": "code",
   "execution_count": 11,
   "id": "f610c95f-ebd6-4844-b55f-0c051e2bfb49",
   "metadata": {},
   "outputs": [
    {
     "name": "stdout",
     "output_type": "stream",
     "text": [
      "   SIGLA_UF  QT_ESCOLAS  QT_FED  QT_MUN  QT_EST  QT_PRI  ESCOLA_FED  \\\n",
      "0        SP       34099      47   13853    6524   13675    0.137834   \n",
      "1        MG       24293      82   13441    4294    6476    0.337546   \n",
      "2        BA       19611      37   15175    1137    3262    0.188670   \n",
      "3        MA       13635      31   10902    1313    1389    0.227356   \n",
      "4        RJ       13229      68    6286    1593    5282    0.514022   \n",
      "5        PA       12092      24    9970    1103     995    0.198478   \n",
      "6        RS       11287      50    5650    2516    3071    0.442988   \n",
      "7        CE       10648      35    7086     776    2751    0.328700   \n",
      "8        PE       10219      26    5852    1085    3256    0.254428   \n",
      "9        PR        9999      30    5459    2140    2370    0.300030   \n",
      "10       SC        7376      39    4283    1378    1676    0.528742   \n",
      "11       AM        6148      18    4941     789     400    0.292778   \n",
      "12       PI        5849      23    4554     762     510    0.393230   \n",
      "13       PB        5479      26    3777     673    1003    0.474539   \n",
      "14       GO        5047      27    2700    1015    1305    0.534971   \n",
      "15       RN        4867      30    3037     820     980    0.616396   \n",
      "16       ES        4037      23    2758     588     668    0.569730   \n",
      "17       AL        3473      17    2553     326     577    0.489490   \n",
      "18       MT        3154      19    1792     825     518    0.602410   \n",
      "19       SE        2567      10    1568     335     654    0.389560   \n",
      "20       TO        2293      11    1428     591     263    0.479721   \n",
      "21       MS        1939      11    1012     365     551    0.567303   \n",
      "22       AC        1658       7     931     673      47    0.422195   \n",
      "23       RO        1416      10     789     416     201    0.706215   \n",
      "24       AP         950       6     433     402     109    0.631579   \n",
      "25       RR         941       7     479     404      51    0.743889   \n",
      "26       DF        1319      11       0     703     605    0.833965   \n",
      "\n",
      "    ESCOLA_EST  ESCOLA_MUN  ESCOLA_PRI  \n",
      "0    19.132526   40.625825   40.103815  \n",
      "1    17.675874   55.328696   26.657885  \n",
      "2     5.797767   77.380042   16.633522  \n",
      "3     9.629630   79.955996   10.187019  \n",
      "4    12.041727   47.516819   39.927432  \n",
      "5     9.121733   82.451207    8.228581  \n",
      "6    22.291131   50.057588   27.208293  \n",
      "7     7.287754   66.547708   25.835838  \n",
      "8    10.617477   57.265877   31.862217  \n",
      "9    21.402140   54.595460   23.702370  \n",
      "10   18.682213   58.066703   22.722343  \n",
      "11   12.833442   80.367599    6.506181  \n",
      "12   13.027868   77.859463    8.719439  \n",
      "13   12.283263   68.935937   18.306260  \n",
      "14   20.110957   53.497127   25.856945  \n",
      "15   16.848161   62.399836   20.135607  \n",
      "16   14.565271   68.318058   16.546941  \n",
      "17    9.386697   73.509934   16.613878  \n",
      "18   26.157261   56.816741   16.423589  \n",
      "19   13.050253   61.082976   25.477211  \n",
      "20   25.774095   62.276494   11.469690  \n",
      "21   18.824136   52.191851   28.416710  \n",
      "22   40.591074   56.151990    2.834741  \n",
      "23   29.378531   55.720339   14.194915  \n",
      "24   42.315789   45.578947   11.473684  \n",
      "25   42.933050   50.903294    5.419766  \n",
      "26   53.297953    0.000000   45.868082  \n"
     ]
    }
   ],
   "source": [
    "dfprincipal['ESCOLA_FED'] = dfprincipal['QT_FED'] / dfprincipal['QT_ESCOLAS']*100\n",
    "dfprincipal['ESCOLA_EST'] = dfprincipal['QT_EST'] / dfprincipal['QT_ESCOLAS']*100\n",
    "dfprincipal['ESCOLA_MUN'] = dfprincipal['QT_MUN'] / dfprincipal['QT_ESCOLAS']*100\n",
    "dfprincipal['ESCOLA_PRI'] = dfprincipal['QT_PRI'] / dfprincipal['QT_ESCOLAS']*100\n",
    "print(dfprincipal)"
   ]
  },
  {
   "cell_type": "code",
   "execution_count": 12,
   "id": "f5f179a0-0754-4355-9d2c-3f6e3e607da1",
   "metadata": {},
   "outputs": [],
   "source": [
    "federal = folium.Map(location=[-15.7801, -47.9292], zoom_start=4)\n",
    "colormap = linear.RdPu_09.scale(0, dfprincipal['ESCOLA_FED'].max())\n",
    "geojson_path = 'BR_UF_2022/BR_UF_2022.json'\n",
    "geojson_data = json.load(open(geojson_path, encoding='utf-8'))\n",
    "\n",
    "Choropleth(\n",
    "    geo_data=geojson_data,\n",
    "    data=dfprincipal,\n",
    "    columns=['SIGLA_UF', 'ESCOLA_FED'],\n",
    "    key_on='feature.properties.SIGLA_UF',\n",
    "    fill_color='RdPu',\n",
    "    fill_opacity=0.7,\n",
    "    line_opacity=0.2,\n",
    "    legend_name='Porcentagem de escolas federais',\n",
    "    highlight=True,\n",
    ").add_to(federal)\n",
    "\n",
    "colormap.add_to(federal)\n",
    "federal.add_child(colormap)\n",
    "federal\n",
    "federal.save('escolas_federais.html')"
   ]
  },
  {
   "cell_type": "code",
   "execution_count": 13,
   "id": "82eb4ac8-2929-48d4-8b3f-e4a5310d357a",
   "metadata": {
    "scrolled": true
   },
   "outputs": [],
   "source": [
    "municipal = folium.Map(location=[-15.7801, -47.9292], zoom_start=4)\n",
    "colormap = linear.BuGn_09.scale(0, dfprincipal['ESCOLA_MUN'].max())\n",
    "geojson_path = 'BR_UF_2022/BR_UF_2022.json'\n",
    "geojson_data = json.load(open(geojson_path, encoding='utf-8'))\n",
    "\n",
    "Choropleth(\n",
    "    geo_data=geojson_data,\n",
    "    data=dfprincipal,\n",
    "    columns=['SIGLA_UF', 'ESCOLA_MUN'],\n",
    "    key_on='feature.properties.SIGLA_UF',\n",
    "    fill_color='BuGn',\n",
    "    fill_opacity=0.7,\n",
    "    line_opacity=0.2,\n",
    "    legend_name='Porcentagem de escolas municipais',\n",
    "    highlight=True,\n",
    ").add_to(municipal)\n",
    "\n",
    "colormap.add_to(municipal)\n",
    "municipal.add_child(colormap)\n",
    "municipal\n",
    "municipal.save('escolas_municipais.html')"
   ]
  },
  {
   "cell_type": "code",
   "execution_count": 14,
   "id": "dc3823a8-397a-4dfb-b70d-059b62de14e1",
   "metadata": {},
   "outputs": [],
   "source": [
    "estadual = folium.Map(location=[-15.7801, -47.9292], zoom_start=4)\n",
    "colormap = linear.YlGn_09.scale(0, dfprincipal['ESCOLA_EST'].max())\n",
    "geojson_path = 'BR_UF_2022/BR_UF_2022.json'\n",
    "geojson_data = json.load(open(geojson_path, encoding='utf-8'))\n",
    "\n",
    "Choropleth(\n",
    "    geo_data=geojson_data,\n",
    "    data=dfprincipal,\n",
    "    columns=['SIGLA_UF', 'ESCOLA_EST'],\n",
    "    key_on='feature.properties.SIGLA_UF',\n",
    "    fill_color='YlGn',\n",
    "    fill_opacity=0.7,\n",
    "    line_opacity=0.2,\n",
    "    legend_name='Porcentagem de escolas estaduais',\n",
    "    highlight=True,\n",
    ").add_to(estadual)\n",
    "\n",
    "colormap.add_to(estadual)\n",
    "estadual.add_child(colormap)\n",
    "estadual\n",
    "estadual.save('escolas_estaduais.html')"
   ]
  },
  {
   "cell_type": "code",
   "execution_count": 15,
   "id": "4c753e17-7434-41cb-a56b-27a353e9528a",
   "metadata": {},
   "outputs": [],
   "source": [
    "privada = folium.Map(location=[-15.7801, -47.9292], zoom_start=4)\n",
    "colormap = linear.PuRd_09.scale(0, dfprincipal['ESCOLA_PRI'].max())\n",
    "geojson_path = 'BR_UF_2022/BR_UF_2022.json'\n",
    "geojson_data = json.load(open(geojson_path, encoding='utf-8'))\n",
    "\n",
    "Choropleth(\n",
    "    geo_data=geojson_data,\n",
    "    data=dfprincipal,\n",
    "    columns=['SIGLA_UF', 'ESCOLA_PRI'],\n",
    "    key_on='feature.properties.SIGLA_UF',\n",
    "    fill_color='PuRd',\n",
    "    fill_opacity=0.7,\n",
    "    line_opacity=0.2,\n",
    "    legend_name='Porcentagem de escolas privadas',\n",
    "    highlight=True,\n",
    ").add_to(privada)\n",
    "\n",
    "colormap.add_to(privada)\n",
    "privada.add_child(colormap)\n",
    "privada\n",
    "privada.save('escolas_privadas.html')"
   ]
  }
 ],
 "metadata": {
  "kernelspec": {
   "display_name": "dadosibge",
   "language": "python",
   "name": "python3"
  },
  "language_info": {
   "codemirror_mode": {
    "name": "ipython",
    "version": 3
   },
   "file_extension": ".py",
   "mimetype": "text/x-python",
   "name": "python",
   "nbconvert_exporter": "python",
   "pygments_lexer": "ipython3",
   "version": "3.8.18"
  },
  "widgets": {
   "application/vnd.jupyter.widget-state+json": {
    "state": {},
    "version_major": 2,
    "version_minor": 0
   }
  }
 },
 "nbformat": 4,
 "nbformat_minor": 5
}
